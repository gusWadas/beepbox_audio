{
  "nbformat": 4,
  "nbformat_minor": 0,
  "metadata": {
    "colab": {
      "provenance": [],
      "authorship_tag": "ABX9TyMudYfG2pzGyiMhJT+KVQ+D",
      "include_colab_link": true
    },
    "kernelspec": {
      "name": "python3",
      "display_name": "Python 3"
    },
    "language_info": {
      "name": "python"
    }
  },
  "cells": [
    {
      "cell_type": "markdown",
      "metadata": {
        "id": "view-in-github",
        "colab_type": "text"
      },
      "source": [
        "<a href=\"https://colab.research.google.com/github/gusWadas/beepbox_audio/blob/main/Untitled4.ipynb\" target=\"_parent\"><img src=\"https://colab.research.google.com/assets/colab-badge.svg\" alt=\"Open In Colab\"/></a>"
      ]
    },
    {
      "cell_type": "code",
      "execution_count": null,
      "metadata": {
        "id": "A4etKXjq1GgF"
      },
      "outputs": [],
      "source": []
    },
    {
      "cell_type": "markdown",
      "source": [
        "# Estocásticos - Lista 4\n",
        "\n",
        "## Introdução a processos de Poisson\n",
        "\n",
        "###Contas auxiliares:\n",
        "\n",
        "$ Pr \\left \\{ N(t)=n   \\right \\} = \\frac{(t\\cdot \\lambda)^{n}}{n!} e^{-t\\lambda}\n",
        "  $\n",
        "\n",
        "$ P\\left\\{ N(t)=0\\right\\} = \\frac{(t\\lambda)^0}{0!}e^{-\\lambda t} = e^{-\\lambda\n",
        "t}  $\n",
        "\n",
        "$\\text{ }$\n",
        "\n",
        "$ τ \\leq t , k \\leq n →  $\n",
        "\n",
        "$ Pr \\left \\{N(τ)=k | N(t)=n   \\right \\} = \\frac{Pr \\left \\{N(τ)=k \\right \\}  Pr \\left \\{N(t-τ)=n-k \\right \\} }{Pr \\left \\{N(t)=n \\right \\}} = \\frac{\\frac{(τ \\cdot \\lambda)^{k}}{k!}e^{-τ\\cdot \\lambda}\\frac{((t-τ)\\cdot \\lambda)^{n-k}}{(n-k)!} e^{-(t-τ)\\cdot \\lambda}}{\\frac{(t\\cdot \\lambda)^{n}}{n!} e^{-t\\cdot \\lambda}}  $\n",
        "\n",
        "$ Pr \\left \\{N(τ)=k | N(t)=n   \\right \\} = \\frac{n!}{k!(n-k)!}\\frac{e^{-λ*(t-τ+τ)}}{e^{-tλ}}\\frac{λ^{k+n-k}}{λ^n}\\frac{τ^{k} (t-τ)^{n-k}}{t^n} = \\frac{n!}{t^n} \\frac{τ^{k}(t-τ)^{n-k}}{k!(n-k)!}  $\n",
        "\n",
        "$\\text{ }$\n",
        "\n",
        "$ Pr \\left \\{N(t)=n |  N(τ)=k   \\right \\} = \\frac{Pr \\left \\{N(τ)=k \\right \\} \\cdot  Pr \\left \\{N(t-τ)=n-k \\right \\} }{Pr \\left \\{N(τ)=k \\right \\}} = Pr \\left \\{N(t-τ)=n-k \\right \\}  $\n",
        "\n",
        "$(a+b)^n =\\sum_{x=0}^{n} \\binom{n}{x}a^xb^{n-x}=\\sum_{x=0}^{n} \\frac{n!}{x!(n-x)!}a^xb^{n-x}  $\n",
        "\n",
        "$ \\text{ } $\n",
        "\n",
        "$ E[X(t)]=t\\lambda $\n"
      ],
      "metadata": {
        "id": "TKGnfLOG3GOO"
      }
    },
    {
      "cell_type": "markdown",
      "source": [
        "##Exercício 1\n",
        "\n",
        "Sejam X e Y variaveis aleatórias independentes, com distribuições de Poisson de parâmetros α e β.\n",
        "Mostre que a variavel X + Y tem uma distribuição de Poisson de parâmetro α + β.\n",
        "\n",
        "$ Pr \\left\\{ X=x \\right\\} = \\frac{\\alpha^{x}}{x!} e^{-\\alpha} $\n",
        "\n",
        "$ Pr \\left\\{ Y=y \\right\\} = \\frac{\\beta^{y}}{y!} e^{-\\beta} $\n",
        "\n",
        "$ Pr \\left\\{ X=x  ,  Y=y\\right\\} = Pr \\left\\{ X=x \\right\\} \\cdot  Pr \\left\\{ Y=y \\right\\} = \\frac{\\alpha^{x}}{x!} e^{-\\alpha}\\frac{\\beta^{y}}{y!} e^{-\\beta} =  \\frac{\\alpha^{x}\\beta^{y}}{x!y!} e^{-(\\alpha+\\beta)}$\n",
        "\n",
        "$ Pr \\left\\{ X+Y=s\\right\\} = \\sum_{x=0}^{s} Pr \\left\\{ X=x  ,  Y=s-x\\right\\} = \\sum_{x=0}^{s}\\frac{\\alpha^{x}\\beta^{s-x}}{x!(s-x)!} e^{-(\\alpha+\\beta)} =\\sum_{x=0}^{s}\\frac{s!}{s!}\\frac{\\alpha^{x}\\beta^{s-x}}{x!(s-x)!} e^{-(\\alpha+\\beta)}  $\n",
        "\n",
        "$ Pr \\left\\{ X+Y=s\\right\\} = \\sum_{x=0}^{s} Pr \\left\\{ X=x  ,  Y=s-x\\right\\} = \\sum_{x=0}^{s}\\frac{\\alpha^{x}\\beta^{s-x}}{x!(s-x)!} e^{-(\\alpha+\\beta)} =\\frac{1}{s!}e^{-(\\alpha+\\beta)}\\sum_{x=0}^{s}\\frac{s!}{x!(s-x)!}\\frac{\\alpha^{x}\\beta^{s-x}}{x!(s-x)!}   $\n",
        "\n",
        "$ Pr \\left\\{ X+Y=s\\right\\} = \\frac{(\\alpha+\\beta)^s}{s!}e^{-(\\alpha+\\beta)}$\n",
        "\n",
        "$ Pr \\left\\{ X+Y=x+y\\right\\} = \\frac{(\\alpha+\\beta)^{x+y}}{(x+y)!}e^{-(\\alpha+\\beta)}$"
      ],
      "metadata": {
        "id": "RXig-UPV7zkj"
      }
    },
    {
      "cell_type": "markdown",
      "source": [
        "## Exercício 2\n",
        "\n",
        "Defeitos ocorrem ao longo de um cabo de fibra óptica de acordo com um processo de Poisson com taxa λ = 0.1 defeitos por Km.\n",
        "\n",
        "a) Qual e a probabilidade de que não ocorra nenhum defeito nos primeiros 2 Km?\n",
        "\n",
        "$P\\left\\{N(2)=0\\right\\} = \\frac{(2\\cdot0.1)^0}{0!}e^{-0.1\\cdot2} = e^{-0.2}= 0.81873075307 $\n",
        "\n",
        "$ \\text{ } $\n",
        "\n",
        "b) Sabendo que não ocorreu nenhum defeito nos primeiros 2 Km, calcule a probabilidade de que nenhum defeito ocorra entre o segundo e terceiro Km.\n",
        "\n",
        "$P\\left\\{N(3)=0 |N(2)=0\\right\\} = P\\left\\{N(3-2)=0\\right\\} = \\frac{(1\\cdot0.1)^0}{0!}e^{-0.1\\cdot1} = e^{-0.1}= 0.90483741803 $"
      ],
      "metadata": {
        "id": "bQ8C11aeAJrA"
      }
    },
    {
      "cell_type": "markdown",
      "source": [
        "## Exercício 3\n",
        "\n",
        "Clientes chegam a uma certa loja de acordo com um processo de Poisson com taxa λ = 4 clientes por hora. Sabendo que a loja abre as 9:00h, qual é a probabilidade de que exatamente um cliente chegue até as 9:30h e um total de cinco chegue até as 11:30h?\n",
        "\n",
        "$ Pr\\left\\{ N(0.5)=1\\right\\} = \\frac{(4\\cdot0.5)^1}{1!}e^{-4\\cdot0.5} = 0.27067056647 $\n",
        "\n",
        "$ Pr\\left\\{ N(2.5 - 0.5)=4\\right\\} = \\frac{(4\\cdot2)^4}{4!}e^{-4\\cdot2} = 0.05725228849 $\n",
        "\n",
        "$ Pr\\left\\{ N(0.5)=1, N(2.5)=5\\right\\} = Pr\\left\\{ N(0.5)=1 \\text{ e } N(2)=4\\right\\} =  0.01549650935 $"
      ],
      "metadata": {
        "id": "wsViWpeGBpdW"
      }
    },
    {
      "cell_type": "markdown",
      "source": [
        "## Exercício 4\n",
        "\n",
        "Mostre que o numero de eventos que ocorrem num intervalo de tempo (0 , t] para um processo de Poisson e consequÊncia da lei dos eventos raros. Em outras palavras, mostre que a distribuição binomial com parâmetros n e p converge para a distribuição de Poisson com parâmetro λ conforme n → ∞ e p → 0, de forma que np permaneça constante\n",
        "\n",
        "$\\lambda = n\\cdot p → p = \\frac{\\lambda}{n}$\n",
        "\n",
        "$ Pr\\left\\{\\ X = x \\right\\} = \\lim_{n→∞} \\frac{n!}{x!(n-x)!}p^x(1-p)^{n-x} = \\frac{1}{x!}\\lim_{n→∞} \\frac{n!}{(n-x)!}(\\frac{\\lambda}{n})^x(1-\\frac{\\lambda}{n})^{n-x} = \\frac{1}{x!}\\lim_{n→∞} \\frac{n!}{n^x(n-x)!}\\lambda^x(1-\\frac{\\lambda}{n})^{n}(1-\\frac{\\lambda}{n})^{-x}$\n",
        "\n",
        "$ Pr\\left\\{\\ X = x \\right\\} =  \\frac{\\lambda^x}{x!}\\lim_{n→∞} \\frac{n!}{n^x(n-x)!}\\left((1-\\frac{\\lambda}{n})^{-\\frac{n}{\\lambda}}\\right)^{-\\lambda}(1-\\frac{\\lambda}{n})^{-x}$\n",
        "\n",
        "$ \\lim_{n→∞} = \\frac{n!}{n^x(n-x)!} = \\lim_{n→∞}\\frac{n(n-1)(n-2)(n-3)(n-2)...}{n^x(n-x)(n-x-1)(n-x-2)...} = 1 $\n",
        "\n",
        "$ \\lim_{n→∞} (1-\\frac{\\lambda}{n})^{-x} = (1-0)^{-x} = 1  $\n",
        "\n",
        "$ \\lim_{n→∞} \\left((1-\\frac{\\lambda}{n})^{-\\frac{n}{\\lambda}}\\right)^{-\\lambda} = e^{-\\lambda}  $\n",
        "\n",
        "$ Pr\\left\\{\\ X = x \\right\\} =  \\frac{\\lambda^x}{x!}e^{-\\lambda}  $"
      ],
      "metadata": {
        "id": "rmJUJKT3Dif7"
      }
    },
    {
      "cell_type": "markdown",
      "source": [
        "## Exercício 5\n",
        "\n",
        "Considere um processo de Poisson de taxa λ eventos por unidade de tempo. Seja N(t) o número de eventos que ocorrem ate no intervalo (0 , t]. Considere o intervalo de tempo fixo (s, t], onde s < t. Determine a probabilidade condicional P{N(t) = n + k | N(s) = n} e o valor esperado E[N(t)N(s)].\n",
        "\n",
        "$ s \\leq t , k \\leq n $\n",
        "\n",
        "$ Pr \\left \\{N(t)=n |  N(s)=k   \\right \\} = \\frac{Pr \\left \\{N(s)=n \\right \\} \\cdot   Pr \\left \\{N(t-s)=n+k \\right \\} }{Pr \\left \\{N(s)=n \\right \\}} = Pr \\left \\{N(t-s)=n+k \\right \\}$\n",
        "\n",
        "$ E[N(t) | N(s)]= \\lim_{k→∞}\\sum_{i=1}^{n+k}i\\cdot Pr \\left \\{N(t)=i | N(s) \\right \\} $\n",
        "\n",
        "$ \\text{ } $\n",
        "\n",
        "Como N(t) > N(s), $ \\sum_{i=1}^{n-1} Pr \\left \\{N(t)=i | N(s) \\right \\} = 0 $\n",
        "\n",
        "\n",
        "$ E[N(t) | N(s)]= \\lim_{k→∞}\\sum_{i=n}^{n+k}i\\cdot Pr \\left \\{N(t-s)=i \\right \\}  $\n",
        "\n",
        "\n",
        "$  E[N(t) | N(s)] = N(s) + \\lim_{k→∞}\\sum_{i=1}^{k}i\\cdot Pr \\left \\{N(t-s)=i \\right \\} $\n",
        "\n",
        "$ \\text{ } $\n",
        "\n",
        "$  E[N(t) | N(s)] = N(s) + E[N(t-s)] = N(s) + (t-s)λ  $\n",
        "\n",
        "\n"
      ],
      "metadata": {
        "id": "0u9rl2UvHxI2"
      }
    },
    {
      "cell_type": "markdown",
      "source": [
        "## Exercício 6\n",
        "\n",
        "Suponha que pacotes SMTP chegam a um servidor de e-mails de acordo com um processo de Poisson com intensidade λ = 2. Seja N(t) o numero de mensagens que chegam até o tempo t. Determine as seguintes probabilidades:\n",
        "\n",
        "\n",
        "a) P{N(1) = 2}\n",
        "\n",
        "$ P\\left\\{ N(1)=2 \\right\\} = \\frac{2^2}{2!}e^{-2} = 2e^-2 = 0.27067056647 $\n",
        "\n",
        "$ \\text{ } $\n",
        "\n",
        "b) P{N(1) = 2 e N(3) = 6}\n",
        "\n",
        "$ P\\left\\{ N(3-1)=6-2 \\right\\} = \\frac{(2\\cdot2)^4}{4!}e^{-(2\\cdot2)} = \\frac{32}{3}e^-4 = 0.19536681481 $\n",
        "\n",
        "$ P\\left\\{ N(1) = 2 e N(3) = 6 \\right\\} =  P\\left\\{ N(1)=2 \\right\\} \\cdot P\\left\\{ N(3-1)=6-2 \\right\\} = 0.05288004643 $\n",
        "\n",
        "$ \\text{ } $\n",
        "\n",
        "c) P{N(1) = 2|N(3) = 6}\n",
        "\n",
        "$ P\\left\\{ N(1) = 2 | N(3) = 6 \\right\\} =  \\frac{6!}{(2 \\cdot 3)^6} \\frac{(2 \\cdot 1)^{2}(2 \\cdot (3-1))^{6-2}}{2!(6-2)!} = \\binom{6}{2}\\frac{2^{2}4^{4}}{6^6}  $\n",
        "\n",
        "$ P\\left\\{ N(1) = 2 | N(3) = 6 \\right\\} =  \\binom{6}{2}\\frac{4^{5}}{6^6}  $\n",
        "\n",
        "$ \\text{ } $\n",
        "\n",
        "d) P{N(3) = 6|N(1) = 2}\n",
        "\n",
        "$ P\\left\\{ N(3) = 6 | N(1) = 2 \\right\\} =  P\\left\\{ N(3-1)=6-2 \\right\\} = 0.19536681481 $"
      ],
      "metadata": {
        "id": "ldIOUe3PT5Iy"
      }
    },
    {
      "cell_type": "markdown",
      "source": [
        "## Exercício 7\n",
        "\n",
        "$ t = \\frac{196}{\\lambda} = \\frac{196}{2.5} = 78.4 $\n",
        "\n",
        "$ σ = \\frac{196}{\\lambda^2} = \\frac{196}{2.5^2} = 31.36 $"
      ],
      "metadata": {
        "id": "n8dNedZ2YOl-"
      }
    },
    {
      "cell_type": "markdown",
      "source": [
        "## Exercício 8\n",
        "...\n",
        "...\n",
        "..."
      ],
      "metadata": {
        "id": "GGJeCvBZYl4F"
      }
    },
    {
      "cell_type": "markdown",
      "source": [
        "## Exercício 9\n",
        "\n",
        " Para um processo de Poisson N(t) de intensidade λ e dois tempos fixos t1 e t2, t1 < t2, encontre a função probabilidade conjunta para duas variáveis aleatórias N(t1) e N(t2)\n",
        "\n",
        " $ P\\left\\{N(t_1) = x \\text{ , } N(t_2) = x + k\\right\\} = P\\left\\{N(t_1) = x\\right\\} \\cdot P\\left\\{N(t_2-t_1) = k\\right\\}$\n",
        "\n",
        " $ P\\left\\{N(t_1) = x \\text{ , } N(t_2) = x + k\\right\\} = \\frac{(t_1\\cdot \\lambda)^{x}}{x!} e^{-t_1\\lambda} \\cdot \\frac{((t_2-t_1)\\cdot \\lambda)^{k}}{k!} e^{-(t_2-t_1)\\lambda} $\n",
        "\n",
        " $ P\\left\\{N(t_1) = x \\text{ , } N(t_2) = x + k\\right\\} = \\frac{(t_1\\cdot)^{x}}{x!}  \\frac{(t_2-t_1)^{k}}{k!} \\lambda^{n+k} e^{-t_2\\lambda} $\n",
        "\n"
      ],
      "metadata": {
        "id": "z3YdJ475YpEO"
      }
    },
    {
      "cell_type": "markdown",
      "source": [
        "## Exercício 10\n",
        "\n",
        "Partículas radioativas sao emitidas de uma fonte de acordo com um processo de Poisson de intensidade λ = 1 partícula por minuto.\n",
        "\n",
        "(a) Suponha que cinco partículas sao emitidas no primeiro minuto. Qual é a probabilidade que exatamente duas dessas partículas foram emitidas nos primeiros 30 segundos?\n",
        "\n",
        "$ P\\left\\{N(0.5)=2 | N(1)=5\\right\\} = \\frac{5!}{1^5} \\frac{0.5^{2}(1-0.5)^{5-2}}{2!(5-2)!} = \\frac{5!}{2!3!}0.5^5 = 0.3125  $\n",
        "\n",
        "$ \\text{}$\n",
        "\n",
        "(b) Seja Sn o tempo de emissao da n−esima partícula. Expresse $S_n$ em termos do tempo de permanencia no estado n, isto é $T_n$, e entao encontre $E[S_n]$.\n",
        "\n",
        "$ S_n = T_1 + T_2 + T_3 + T_4 + ... + T_n$\n",
        "\n",
        "$ P\\left\\{T=t\\right\\} = P\\left\\{X=1\\right\\} = \\lambda e^{-\\lambda}  $\n",
        "\n",
        "$ E[T] = \\frac{1}{\\lambda}$\n",
        "\n",
        "$ E[S_n] = \\sum_{i-0}^nE[T_i] = nE[T_n] = \\frac{n}{\\lambda} $\n",
        "\n",
        "$ E[S_n] = n$\n",
        "\n",
        "$ \\text{}$\n",
        "\n",
        "(c) Suponha que cada partícula sobreviva durante 10 segundos. Qual e a probabilidade de k partículas existirem em um minuto?\n",
        "\n",
        "$ P\\left\\{ N(\\frac{1}{6})=k)\\right\\} = \\frac{\\left(\\frac{1}{6}\\right)^k}{k!}e^{-\\frac{1}{6}} = \\frac{1}{6^k k!}0.84648172489 $"
      ],
      "metadata": {
        "id": "H4a5Mt1wayx9"
      }
    },
    {
      "cell_type": "markdown",
      "source": [
        "## Exercício 11\n",
        "\n",
        "Seja {N(t), t , 0} um processo de Poisson de taxa λ. Para s < t encontre:\n",
        "\n",
        "(a) P(N(t) > N(s)).\n",
        "\n",
        "$ N(s) \\leq N(t)$\n",
        "\n",
        "$ P\\left\\{ N(t)>N(s)\\right\\} = 1 - P\\left\\{ N(t)=N(s)\\right\\} - P\\left\\{ N(t)< N(s)\\right\\} = 1 - P\\left\\{ N(t)=N(s)\\right\\}$\n",
        "\n",
        "$ P\\left\\{ N(t)=N(s)\\right\\} = P\\left\\{ N(t-s)=0\\right\\} = e^{-\\lambda(t-s)} $\n",
        "\n",
        "$ P\\left\\{ N(t)>N(s)\\right\\} = 1 - e^{-\\lambda(t-s)} $\n",
        "\n",
        "$ \\text{}$\n",
        "\n",
        "(b) P(N(s) = 0, N(t) = 3).\n",
        "\n",
        "$ P\\left\\{ N(s)=0 \\text{ , } N(t)=3\\right\\} = P\\left\\{ N(s)=0\\right\\} \\cdot P\\left\\{ N(t-s)=3-0\\right\\} = e^{-s\\lambda}\\frac{((t-s)\\lambda)^{3}}{3!}e^{-(t-s)\\lambda}  $\n",
        "\n",
        "$ P\\left\\{ N(s)=0 \\text{ , } N(t)=3\\right\\} =\\frac{((t-s)\\lambda)^{3}}{3!}e^{-t\\lambda}  $\n",
        "\n",
        "$ \\text{}$\n",
        "\n",
        "(c) E[N(t)|N(s) = 4].\n",
        "\n",
        "$  E[N(t) | N(s)] = N(s) + E[N(t-s)] = 4 + (t-s)λ   $\n",
        "\n",
        "$ \\text{}$\n",
        "\n",
        "(d) E[N(s)|N(t) = 4].\n",
        "\n",
        "$  E[N(s) | N(t)=n] = \\sum_{i=1}^n i \\cdot P\\left\\{ N(s)=i | N(t)=n\\right\\} =  \\sum_{i=1}^n i \\frac{n!}{t^n} \\frac{s^{i}(t-s)^{n-i}}{i!(n-i)!}  $\n",
        "\n",
        "$  E[N(s) | N(t)=n] =  \\frac{ns}{t^n}\\sum_{i=1}^n \\frac{(n-1)!}{(i-1)!(n-i)!} s^{i-1}(t-s)^{n-i} =  \\frac{ns}{t^n}\\sum_{i=1}^n \\frac{(n-1)!}{(i-1)!(n-1-(i-1))!} s^{i-1}(t-s)^{n-1-(i-1)}  $\n",
        "\n",
        "$  E[N(s) | N(t)=n] =  \\frac{ns}{t^n}\\sum_{i=0}^{n-1} \\frac{(n-1)!}{i!(n-1-i)!} s^{i}(t-s)^{n-1-i} = \\frac{ns}{t^n} \\sum_{i=0}^{n-1} \\binom{n-1}{i} s^{i}(t-s)^{n-1-i} $\n",
        "\n",
        "$  E[N(s) | N(t)=n] =   \\frac{ns}{t^n} (t - s + s)^{n-1} = \\frac{ns}{t^n} t^{n-1} $\n",
        "\n",
        "$  E[N(s) | N(t)=n] = n\\frac{s}{t}  $\n",
        "\n",
        "$  E[N(s) | N(t)=4] = 4\\frac{s}{t}  $\n"
      ],
      "metadata": {
        "id": "ZqMUGWmsh-EP"
      }
    },
    {
      "cell_type": "markdown",
      "source": [
        "## Exercício 12\n",
        "\n",
        "Um medico tem duas consultas a fazer, umas às 13h e outra às 13:30h. O tempo gasto em cada consulta tem distribuição exponencial com média de 30 minutos. Assumindo que ambos os pacientes chegaram no horario marcado, encontre o tempo médio gasto pelo paciente marcado às 13:30h no consultorio\n",
        "\n",
        "\n",
        "$ E[X] = 30 = \\frac{1}{\\lambda} → λ = \\frac{1}{30} $\n",
        "\n",
        "$ P\\left\\{ X=x \\right\\} = \\lambda e^{-\\lambda} = \\frac{1}{30} e^{-\\frac{1}{30}}  $\n",
        "\n",
        "Tempo Atraso $ → Ta = E[X>30] = E[X] \\cdot P\\left\\{ X>30 \\right\\}   $\n",
        "\n",
        "$ P\\left\\{ X>t \\right\\} = 1- P\\left\\{ X \\leq t \\right\\} = 1 - F\\left\\{t \\right\\} = 1- \\left (1- e^{-t\\lambda} \\right) = e^{-t\\lambda}  $\n",
        "\n",
        "$ Ta = 30 e^{-30\\lambda} = 30 e^{-1} = 11.0363832351 $\n",
        "\n",
        "$ E[C_2] = Ta + E[X] = 41.0363832351  $"
      ],
      "metadata": {
        "id": "vjtYuD_q0fe2"
      }
    },
    {
      "cell_type": "markdown",
      "source": [
        "## Exercício 13\n",
        "Imagine que pessoas entram numa sala de aula seguindo um processo de Poisson com taxa λ = 1 pessoa por minuto.\n",
        "\n",
        "a) Qual e o tempo esperado até que a décima pessoa entre?\n",
        "\n",
        "$ E[X] = 1 $\n",
        "\n",
        "$ E[t | X=10] = 10 \\cdot E[X] = 10 $\n",
        "\n",
        "\n",
        "$ \\text{} $\n",
        "\n",
        "\n",
        "b) Qual e a probabilidade de que o tempo entre a entrada da décima e décima primeira pessoa seja maior do que dois minutos?\n",
        "\n",
        "$ P\\left\\{ T > 2 \\right\\} = P\\left\\{ N(2)=0 \\right\\} = e^{-2\\lambda} = e^{-2} = 0.13533528323   $\n",
        "\n",
        "\n",
        "\n",
        "\n"
      ],
      "metadata": {
        "id": "u_ncZfgj3EOW"
      }
    },
    {
      "cell_type": "markdown",
      "source": [
        "## Exercício 14\n",
        "\n",
        "Passageiros chegam a um terminal rodoviário de acordo com um processo de Poisson de taxa λ = 8 passageiros por hora. O numero de horas entre a chegada de ônibus sucessivos nesse terminal é distribuído uniformemente entre 0 e 1. Imagine que um onibus tenha acabado de partir. Seja X o numero de pessoas que entrarão no próximo ônibus.\n",
        "\n",
        "Tempo médio para chegar o próximo ônibus $ → E[Ônibus]=\\frac{0+1}{2} = 0.5 $\n",
        "\n",
        "Passageiros que chegam em um tempo t $ → E[Passageiros(t)] = t\\lambda $\n",
        "\n",
        "$ E[Passageiros/Ônibus] = E[Passageiros(E[Ônibus])] = 0.5 \\cdot 8 = 4 $"
      ],
      "metadata": {
        "id": "N1wi4_re4nv8"
      }
    },
    {
      "cell_type": "markdown",
      "source": [
        "## Exercício 15\n",
        "\n",
        "Os tempos de vida de um cachorro (T_c) e de um gato (T_g) sao variáveis aleatórias independentes, distribuídas de acordo com distribuições exponenciais de parâmetros λc e λg, respectivamente. Suponha que um dos pets tenha acabado de morrer. Calcule o valor esperado do tempo de vida adicional do outro pet.\n",
        "\n",
        "Dica: Veja na seção 5.2.3 do livro do Sheldon Ross como calcular a probabilidade Pr{X1 < X2}\n",
        "\n",
        "$ P\\left\\{X_1 < X_2 \\right\\} = \\frac{λ_1}{λ_1 + λ_2} $\n",
        "\n",
        "Como a distribuiçaõ exponencial não armazena memória, ou seja, a chance do evento acontecer num intervalo t+s dado que ela não aconteceu num intervalo s é igual a chance do evento acontece num intervalo t.\n",
        "\n",
        "$ P\\left\\{T > t + s | T > s \\right\\} = P\\left\\{T > t \\right\\}  $\n",
        "\n",
        "$ E[T | T > k] = E[T] =  \\frac{1}{\\lambda} $\n",
        "\n",
        "Então o valor esperado de tempo de vida adicional é soma das multiplicações entre probabilidade do outro animal ter morrido e o tempo de vida do animal.\n",
        "\n",
        "\n",
        "$ Tva = E[T_g | T_g > T_c] \\cdot P\\left\\{T_c < T_g \\right\\} + E[T_c | T_c > T_g] \\cdot P\\left\\{T_g < T_c \\right\\}   $\n",
        "\n",
        "$ \\text{} $\n",
        "\n",
        "$ Tva = \\frac{1}{λ_g}\\frac{λ_c}{λ_g + λ_c} + \\frac{1}{λ_c}\\frac{λ_g}{λ_g + λ_c}  $"
      ],
      "metadata": {
        "id": "a7vhhZxw6Y2V"
      }
    },
    {
      "cell_type": "code",
      "source": [],
      "metadata": {
        "id": "7O4dcV23HRN8"
      },
      "execution_count": null,
      "outputs": []
    }
  ]
}